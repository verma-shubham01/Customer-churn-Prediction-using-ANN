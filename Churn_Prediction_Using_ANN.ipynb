{
  "cells": [
    {
      "cell_type": "markdown",
      "metadata": {
        "id": "95978421"
      },
      "source": [
        "  # Part 1 - Data Preprocessing"
      ],
      "id": "95978421"
    },
    {
      "cell_type": "code",
      "execution_count": 1,
      "metadata": {
        "id": "9efadeda"
      },
      "outputs": [],
      "source": [
        "# Importing the libraries\n",
        "import numpy as np\n",
        "import matplotlib.pyplot as plt\n",
        "import pandas as pd\n",
        "import seaborn as sns"
      ],
      "id": "9efadeda"
    },
    {
      "cell_type": "code",
      "execution_count": 4,
      "metadata": {
        "colab": {
          "base_uri": "https://localhost:8080/"
        },
        "id": "8b289ca6",
        "outputId": "727e4d9b-2ddf-43bf-d843-40aed51f8781"
      },
      "outputs": [
        {
          "output_type": "execute_result",
          "data": {
            "text/plain": [
              "(10000, 14)"
            ]
          },
          "metadata": {},
          "execution_count": 4
        }
      ],
      "source": [
        "df=pd.read_csv(\"/content/drive/MyDrive/Colab Notebooks/ANN/Churn_Modelling.csv\")\n",
        "df.shape"
      ],
      "id": "8b289ca6"
    },
    {
      "cell_type": "code",
      "execution_count": 5,
      "metadata": {
        "colab": {
          "base_uri": "https://localhost:8080/"
        },
        "id": "2fecd0af",
        "outputId": "934e6579-60e8-416a-ed7a-423bdb42032e"
      },
      "outputs": [
        {
          "output_type": "execute_result",
          "data": {
            "text/plain": [
              "RowNumber          0\n",
              "CustomerId         0\n",
              "Surname            0\n",
              "CreditScore        0\n",
              "Geography          0\n",
              "Gender             0\n",
              "Age                0\n",
              "Tenure             0\n",
              "Balance            0\n",
              "NumOfProducts      0\n",
              "HasCrCard          0\n",
              "IsActiveMember     0\n",
              "EstimatedSalary    0\n",
              "Exited             0\n",
              "dtype: int64"
            ]
          },
          "metadata": {},
          "execution_count": 5
        }
      ],
      "source": [
        "# Check missing values\n",
        "df.isnull().sum()"
      ],
      "id": "2fecd0af"
    },
    {
      "cell_type": "code",
      "execution_count": 6,
      "metadata": {
        "colab": {
          "base_uri": "https://localhost:8080/"
        },
        "id": "9f6a3228",
        "outputId": "1ade4a4b-afa8-4c33-b062-fc2583f31560"
      },
      "outputs": [
        {
          "output_type": "execute_result",
          "data": {
            "text/plain": [
              "RowNumber          10000\n",
              "CustomerId         10000\n",
              "Surname             2932\n",
              "CreditScore          460\n",
              "Geography              3\n",
              "Gender                 2\n",
              "Age                   70\n",
              "Tenure                11\n",
              "Balance             6382\n",
              "NumOfProducts          4\n",
              "HasCrCard              2\n",
              "IsActiveMember         2\n",
              "EstimatedSalary     9999\n",
              "Exited                 2\n",
              "dtype: int64"
            ]
          },
          "metadata": {},
          "execution_count": 6
        }
      ],
      "source": [
        "# unique count for each feature\n",
        "df.nunique()"
      ],
      "id": "9f6a3228"
    },
    {
      "cell_type": "code",
      "execution_count": 7,
      "metadata": {
        "colab": {
          "base_uri": "https://localhost:8080/",
          "height": 206
        },
        "id": "0cbec18f",
        "outputId": "ac841944-83a7-4235-f054-31bf83608c1d"
      },
      "outputs": [
        {
          "output_type": "execute_result",
          "data": {
            "text/plain": [
              "   CreditScore Geography  Gender  Age  Tenure    Balance  NumOfProducts  \\\n",
              "0          619    France  Female   42       2       0.00              1   \n",
              "1          608     Spain  Female   41       1   83807.86              1   \n",
              "2          502    France  Female   42       8  159660.80              3   \n",
              "3          699    France  Female   39       1       0.00              2   \n",
              "4          850     Spain  Female   43       2  125510.82              1   \n",
              "\n",
              "   HasCrCard  IsActiveMember  EstimatedSalary  Exited  \n",
              "0          1               1        101348.88       1  \n",
              "1          0               1        112542.58       0  \n",
              "2          1               0        113931.57       1  \n",
              "3          0               0         93826.63       0  \n",
              "4          1               1         79084.10       0  "
            ],
            "text/html": [
              "\n",
              "  <div id=\"df-a644c5b1-2cf6-4353-9094-6f1e28d9343c\">\n",
              "    <div class=\"colab-df-container\">\n",
              "      <div>\n",
              "<style scoped>\n",
              "    .dataframe tbody tr th:only-of-type {\n",
              "        vertical-align: middle;\n",
              "    }\n",
              "\n",
              "    .dataframe tbody tr th {\n",
              "        vertical-align: top;\n",
              "    }\n",
              "\n",
              "    .dataframe thead th {\n",
              "        text-align: right;\n",
              "    }\n",
              "</style>\n",
              "<table border=\"1\" class=\"dataframe\">\n",
              "  <thead>\n",
              "    <tr style=\"text-align: right;\">\n",
              "      <th></th>\n",
              "      <th>CreditScore</th>\n",
              "      <th>Geography</th>\n",
              "      <th>Gender</th>\n",
              "      <th>Age</th>\n",
              "      <th>Tenure</th>\n",
              "      <th>Balance</th>\n",
              "      <th>NumOfProducts</th>\n",
              "      <th>HasCrCard</th>\n",
              "      <th>IsActiveMember</th>\n",
              "      <th>EstimatedSalary</th>\n",
              "      <th>Exited</th>\n",
              "    </tr>\n",
              "  </thead>\n",
              "  <tbody>\n",
              "    <tr>\n",
              "      <th>0</th>\n",
              "      <td>619</td>\n",
              "      <td>France</td>\n",
              "      <td>Female</td>\n",
              "      <td>42</td>\n",
              "      <td>2</td>\n",
              "      <td>0.00</td>\n",
              "      <td>1</td>\n",
              "      <td>1</td>\n",
              "      <td>1</td>\n",
              "      <td>101348.88</td>\n",
              "      <td>1</td>\n",
              "    </tr>\n",
              "    <tr>\n",
              "      <th>1</th>\n",
              "      <td>608</td>\n",
              "      <td>Spain</td>\n",
              "      <td>Female</td>\n",
              "      <td>41</td>\n",
              "      <td>1</td>\n",
              "      <td>83807.86</td>\n",
              "      <td>1</td>\n",
              "      <td>0</td>\n",
              "      <td>1</td>\n",
              "      <td>112542.58</td>\n",
              "      <td>0</td>\n",
              "    </tr>\n",
              "    <tr>\n",
              "      <th>2</th>\n",
              "      <td>502</td>\n",
              "      <td>France</td>\n",
              "      <td>Female</td>\n",
              "      <td>42</td>\n",
              "      <td>8</td>\n",
              "      <td>159660.80</td>\n",
              "      <td>3</td>\n",
              "      <td>1</td>\n",
              "      <td>0</td>\n",
              "      <td>113931.57</td>\n",
              "      <td>1</td>\n",
              "    </tr>\n",
              "    <tr>\n",
              "      <th>3</th>\n",
              "      <td>699</td>\n",
              "      <td>France</td>\n",
              "      <td>Female</td>\n",
              "      <td>39</td>\n",
              "      <td>1</td>\n",
              "      <td>0.00</td>\n",
              "      <td>2</td>\n",
              "      <td>0</td>\n",
              "      <td>0</td>\n",
              "      <td>93826.63</td>\n",
              "      <td>0</td>\n",
              "    </tr>\n",
              "    <tr>\n",
              "      <th>4</th>\n",
              "      <td>850</td>\n",
              "      <td>Spain</td>\n",
              "      <td>Female</td>\n",
              "      <td>43</td>\n",
              "      <td>2</td>\n",
              "      <td>125510.82</td>\n",
              "      <td>1</td>\n",
              "      <td>1</td>\n",
              "      <td>1</td>\n",
              "      <td>79084.10</td>\n",
              "      <td>0</td>\n",
              "    </tr>\n",
              "  </tbody>\n",
              "</table>\n",
              "</div>\n",
              "      <button class=\"colab-df-convert\" onclick=\"convertToInteractive('df-a644c5b1-2cf6-4353-9094-6f1e28d9343c')\"\n",
              "              title=\"Convert this dataframe to an interactive table.\"\n",
              "              style=\"display:none;\">\n",
              "        \n",
              "  <svg xmlns=\"http://www.w3.org/2000/svg\" height=\"24px\"viewBox=\"0 0 24 24\"\n",
              "       width=\"24px\">\n",
              "    <path d=\"M0 0h24v24H0V0z\" fill=\"none\"/>\n",
              "    <path d=\"M18.56 5.44l.94 2.06.94-2.06 2.06-.94-2.06-.94-.94-2.06-.94 2.06-2.06.94zm-11 1L8.5 8.5l.94-2.06 2.06-.94-2.06-.94L8.5 2.5l-.94 2.06-2.06.94zm10 10l.94 2.06.94-2.06 2.06-.94-2.06-.94-.94-2.06-.94 2.06-2.06.94z\"/><path d=\"M17.41 7.96l-1.37-1.37c-.4-.4-.92-.59-1.43-.59-.52 0-1.04.2-1.43.59L10.3 9.45l-7.72 7.72c-.78.78-.78 2.05 0 2.83L4 21.41c.39.39.9.59 1.41.59.51 0 1.02-.2 1.41-.59l7.78-7.78 2.81-2.81c.8-.78.8-2.07 0-2.86zM5.41 20L4 18.59l7.72-7.72 1.47 1.35L5.41 20z\"/>\n",
              "  </svg>\n",
              "      </button>\n",
              "      \n",
              "  <style>\n",
              "    .colab-df-container {\n",
              "      display:flex;\n",
              "      flex-wrap:wrap;\n",
              "      gap: 12px;\n",
              "    }\n",
              "\n",
              "    .colab-df-convert {\n",
              "      background-color: #E8F0FE;\n",
              "      border: none;\n",
              "      border-radius: 50%;\n",
              "      cursor: pointer;\n",
              "      display: none;\n",
              "      fill: #1967D2;\n",
              "      height: 32px;\n",
              "      padding: 0 0 0 0;\n",
              "      width: 32px;\n",
              "    }\n",
              "\n",
              "    .colab-df-convert:hover {\n",
              "      background-color: #E2EBFA;\n",
              "      box-shadow: 0px 1px 2px rgba(60, 64, 67, 0.3), 0px 1px 3px 1px rgba(60, 64, 67, 0.15);\n",
              "      fill: #174EA6;\n",
              "    }\n",
              "\n",
              "    [theme=dark] .colab-df-convert {\n",
              "      background-color: #3B4455;\n",
              "      fill: #D2E3FC;\n",
              "    }\n",
              "\n",
              "    [theme=dark] .colab-df-convert:hover {\n",
              "      background-color: #434B5C;\n",
              "      box-shadow: 0px 1px 3px 1px rgba(0, 0, 0, 0.15);\n",
              "      filter: drop-shadow(0px 1px 2px rgba(0, 0, 0, 0.3));\n",
              "      fill: #FFFFFF;\n",
              "    }\n",
              "  </style>\n",
              "\n",
              "      <script>\n",
              "        const buttonEl =\n",
              "          document.querySelector('#df-a644c5b1-2cf6-4353-9094-6f1e28d9343c button.colab-df-convert');\n",
              "        buttonEl.style.display =\n",
              "          google.colab.kernel.accessAllowed ? 'block' : 'none';\n",
              "\n",
              "        async function convertToInteractive(key) {\n",
              "          const element = document.querySelector('#df-a644c5b1-2cf6-4353-9094-6f1e28d9343c');\n",
              "          const dataTable =\n",
              "            await google.colab.kernel.invokeFunction('convertToInteractive',\n",
              "                                                     [key], {});\n",
              "          if (!dataTable) return;\n",
              "\n",
              "          const docLinkHtml = 'Like what you see? Visit the ' +\n",
              "            '<a target=\"_blank\" href=https://colab.research.google.com/notebooks/data_table.ipynb>data table notebook</a>'\n",
              "            + ' to learn more about interactive tables.';\n",
              "          element.innerHTML = '';\n",
              "          dataTable['output_type'] = 'display_data';\n",
              "          await google.colab.output.renderOutput(dataTable, element);\n",
              "          const docLink = document.createElement('div');\n",
              "          docLink.innerHTML = docLinkHtml;\n",
              "          element.appendChild(docLink);\n",
              "        }\n",
              "      </script>\n",
              "    </div>\n",
              "  </div>\n",
              "  "
            ]
          },
          "metadata": {},
          "execution_count": 7
        }
      ],
      "source": [
        "# Drop the unnecessary columns \n",
        "df = df.drop([\"RowNumber\", \"CustomerId\", \"Surname\"], axis = 1)\n",
        "df.head()"
      ],
      "id": "0cbec18f"
    },
    {
      "cell_type": "code",
      "execution_count": 8,
      "metadata": {
        "colab": {
          "base_uri": "https://localhost:8080/"
        },
        "id": "26f1e603",
        "outputId": "ed57b846-d85f-42ef-b213-64549850d9ee"
      },
      "outputs": [
        {
          "output_type": "execute_result",
          "data": {
            "text/plain": [
              "CreditScore          int64\n",
              "Geography           object\n",
              "Gender              object\n",
              "Age                  int64\n",
              "Tenure               int64\n",
              "Balance            float64\n",
              "NumOfProducts        int64\n",
              "HasCrCard            int64\n",
              "IsActiveMember       int64\n",
              "EstimatedSalary    float64\n",
              "Exited               int64\n",
              "dtype: object"
            ]
          },
          "metadata": {},
          "execution_count": 8
        }
      ],
      "source": [
        "df.dtypes"
      ],
      "id": "26f1e603"
    },
    {
      "cell_type": "code",
      "execution_count": 9,
      "metadata": {
        "colab": {
          "base_uri": "https://localhost:8080/",
          "height": 487
        },
        "id": "3b75244e",
        "outputId": "e0702f9b-b243-4e75-9a13-1e64df79fe51"
      },
      "outputs": [
        {
          "output_type": "display_data",
          "data": {
            "text/plain": [
              "<Figure size 720x576 with 1 Axes>"
            ],
            "image/png": "[encoded data removed]"
          },
          "metadata": {}
        }
      ],
      "source": [
        "labels = 'Exited', 'Retained'\n",
        "sizes = [df.Exited[df['Exited']==1].count(), df.Exited[df['Exited']==0].count()]\n",
        "explode = (0, 0.05)\n",
        "fig1, ax1 = plt.subplots(figsize=(10, 8))\n",
        "ax1.pie(sizes, explode=explode, labels=labels, autopct='%1.1f%%', shadow=True, startangle=90)\n",
        "ax1.axis('equal')\n",
        "plt.title(\"Customers categories proportion\", size = 20)\n",
        "plt.show()"
      ],
      "id": "3b75244e"
    },
    {
      "cell_type": "code",
      "execution_count": 10,
      "metadata": {
        "colab": {
          "base_uri": "https://localhost:8080/",
          "height": 627
        },
        "id": "dabe42e1",
        "outputId": "8183d265-365d-407c-aed3-47ceab7a68bd"
      },
      "outputs": [
        {
          "output_type": "execute_result",
          "data": {
            "text/plain": [
              "<matplotlib.axes._subplots.AxesSubplot at 0x7fc785fe8ad0>"
            ]
          },
          "metadata": {},
          "execution_count": 10
        },
        {
          "output_type": "display_data",
          "data": {
            "text/plain": [
              "<Figure size 1440x864 with 4 Axes>"
            ],
            "image/png": "[encoded data removed]"
          },
          "metadata": {
            "needs_background": "light"
          }
        }
      ],
      "source": [
        "fig, axarr = plt.subplots(2, 2, figsize=(20, 12))\n",
        "sns.countplot(x='Gender', hue = 'Exited',data = df, ax=axarr[0][0])\n",
        "sns.countplot(x='Geography', hue = 'Exited',data = df, ax=axarr[0][1])\n",
        "sns.countplot(x='IsActiveMember', hue = 'Exited',data = df, ax=axarr[1][0])\n",
        "sns.countplot(x='HasCrCard', hue = 'Exited',data = df, ax=axarr[1][1])\n"
      ],
      "id": "dabe42e1"
    },
    {
      "cell_type": "markdown",
      "metadata": {
        "id": "36e6ce62"
      },
      "source": [
        "## Feature engineering"
      ],
      "id": "36e6ce62"
    },
    {
      "cell_type": "code",
      "execution_count": 11,
      "metadata": {
        "id": "169b59d1"
      },
      "outputs": [],
      "source": [
        "#Add features that are likely to have an impact on the probability of churning\n",
        "df.insert(loc = len(df.columns)-1,\n",
        "          column = 'BalanceSalaryRatio',\n",
        "          value = list(df.Balance/df.EstimatedSalary))\n"
      ],
      "id": "169b59d1"
    },
    {
      "cell_type": "code",
      "execution_count": 13,
      "metadata": {
        "colab": {
          "base_uri": "https://localhost:8080/",
          "height": 301
        },
        "id": "cf713e9d",
        "outputId": "5903cb03-0343-4fc2-fd2b-1f021ca95b48"
      },
      "outputs": [
        {
          "output_type": "execute_result",
          "data": {
            "text/plain": [
              "(-2.0, 6.0)"
            ]
          },
          "metadata": {},
          "execution_count": 13
        },
        {
          "output_type": "display_data",
          "data": {
            "text/plain": [
              "<Figure size 432x288 with 1 Axes>"
            ],
            "image/png": "[encoded data removed]"
          },
          "metadata": {
            "needs_background": "light"
          }
        }
      ],
      "source": [
        "#see impact of adding features\n",
        "sns.boxplot(y='BalanceSalaryRatio',x = 'Exited', hue = 'Exited',data = df)\n",
        "plt.ylim(-2, 6)"
      ],
      "id": "cf713e9d"
    },
    {
      "cell_type": "code",
      "execution_count": 12,
      "metadata": {
        "id": "1c170ff4",
        "outputId": "93e10960-fb9b-4cd8-bba2-d6505ab1c1a2",
        "colab": {
          "base_uri": "https://localhost:8080/",
          "height": 270
        }
      },
      "outputs": [
        {
          "output_type": "execute_result",
          "data": {
            "text/plain": [
              "   CreditScore Geography  Gender  Age  Tenure    Balance  NumOfProducts  \\\n",
              "0          619    France  Female   42       2       0.00              1   \n",
              "1          608     Spain  Female   41       1   83807.86              1   \n",
              "2          502    France  Female   42       8  159660.80              3   \n",
              "3          699    France  Female   39       1       0.00              2   \n",
              "4          850     Spain  Female   43       2  125510.82              1   \n",
              "\n",
              "   HasCrCard  IsActiveMember  EstimatedSalary  BalanceSalaryRatio  Exited  \n",
              "0          1               1        101348.88            0.000000       1  \n",
              "1          0               1        112542.58            0.744677       0  \n",
              "2          1               0        113931.57            1.401375       1  \n",
              "3          0               0         93826.63            0.000000       0  \n",
              "4          1               1         79084.10            1.587055       0  "
            ],
            "text/html": [
              "\n",
              "  <div id=\"df-bbc6d9fe-f7d7-49cb-ba1e-38bf1c1e466d\">\n",
              "    <div class=\"colab-df-container\">\n",
              "      <div>\n",
              "<style scoped>\n",
              "    .dataframe tbody tr th:only-of-type {\n",
              "        vertical-align: middle;\n",
              "    }\n",
              "\n",
              "    .dataframe tbody tr th {\n",
              "        vertical-align: top;\n",
              "    }\n",
              "\n",
              "    .dataframe thead th {\n",
              "        text-align: right;\n",
              "    }\n",
              "</style>\n",
              "<table border=\"1\" class=\"dataframe\">\n",
              "  <thead>\n",
              "    <tr style=\"text-align: right;\">\n",
              "      <th></th>\n",
              "      <th>CreditScore</th>\n",
              "      <th>Geography</th>\n",
              "      <th>Gender</th>\n",
              "      <th>Age</th>\n",
              "      <th>Tenure</th>\n",
              "      <th>Balance</th>\n",
              "      <th>NumOfProducts</th>\n",
              "      <th>HasCrCard</th>\n",
              "      <th>IsActiveMember</th>\n",
              "      <th>EstimatedSalary</th>\n",
              "      <th>BalanceSalaryRatio</th>\n",
              "      <th>Exited</th>\n",
              "    </tr>\n",
              "  </thead>\n",
              "  <tbody>\n",
              "    <tr>\n",
              "      <th>0</th>\n",
              "      <td>619</td>\n",
              "      <td>France</td>\n",
              "      <td>Female</td>\n",
              "      <td>42</td>\n",
              "      <td>2</td>\n",
              "      <td>0.00</td>\n",
              "      <td>1</td>\n",
              "      <td>1</td>\n",
              "      <td>1</td>\n",
              "      <td>101348.88</td>\n",
              "      <td>0.000000</td>\n",
              "      <td>1</td>\n",
              "    </tr>\n",
              "    <tr>\n",
              "      <th>1</th>\n",
              "      <td>608</td>\n",
              "      <td>Spain</td>\n",
              "      <td>Female</td>\n",
              "      <td>41</td>\n",
              "      <td>1</td>\n",
              "      <td>83807.86</td>\n",
              "      <td>1</td>\n",
              "      <td>0</td>\n",
              "      <td>1</td>\n",
              "      <td>112542.58</td>\n",
              "      <td>0.744677</td>\n",
              "      <td>0</td>\n",
              "    </tr>\n",
              "    <tr>\n",
              "      <th>2</th>\n",
              "      <td>502</td>\n",
              "      <td>France</td>\n",
              "      <td>Female</td>\n",
              "      <td>42</td>\n",
              "      <td>8</td>\n",
              "      <td>159660.80</td>\n",
              "      <td>3</td>\n",
              "      <td>1</td>\n",
              "      <td>0</td>\n",
              "      <td>113931.57</td>\n",
              "      <td>1.401375</td>\n",
              "      <td>1</td>\n",
              "    </tr>\n",
              "    <tr>\n",
              "      <th>3</th>\n",
              "      <td>699</td>\n",
              "      <td>France</td>\n",
              "      <td>Female</td>\n",
              "      <td>39</td>\n",
              "      <td>1</td>\n",
              "      <td>0.00</td>\n",
              "      <td>2</td>\n",
              "      <td>0</td>\n",
              "      <td>0</td>\n",
              "      <td>93826.63</td>\n",
              "      <td>0.000000</td>\n",
              "      <td>0</td>\n",
              "    </tr>\n",
              "    <tr>\n",
              "      <th>4</th>\n",
              "      <td>850</td>\n",
              "      <td>Spain</td>\n",
              "      <td>Female</td>\n",
              "      <td>43</td>\n",
              "      <td>2</td>\n",
              "      <td>125510.82</td>\n",
              "      <td>1</td>\n",
              "      <td>1</td>\n",
              "      <td>1</td>\n",
              "      <td>79084.10</td>\n",
              "      <td>1.587055</td>\n",
              "      <td>0</td>\n",
              "    </tr>\n",
              "  </tbody>\n",
              "</table>\n",
              "</div>\n",
              "      <button class=\"colab-df-convert\" onclick=\"convertToInteractive('df-bbc6d9fe-f7d7-49cb-ba1e-38bf1c1e466d')\"\n",
              "              title=\"Convert this dataframe to an interactive table.\"\n",
              "              style=\"display:none;\">\n",
              "        \n",
              "  <svg xmlns=\"http://www.w3.org/2000/svg\" height=\"24px\"viewBox=\"0 0 24 24\"\n",
              "       width=\"24px\">\n",
              "    <path d=\"M0 0h24v24H0V0z\" fill=\"none\"/>\n",
              "    <path d=\"M18.56 5.44l.94 2.06.94-2.06 2.06-.94-2.06-.94-.94-2.06-.94 2.06-2.06.94zm-11 1L8.5 8.5l.94-2.06 2.06-.94-2.06-.94L8.5 2.5l-.94 2.06-2.06.94zm10 10l.94 2.06.94-2.06 2.06-.94-2.06-.94-.94-2.06-.94 2.06-2.06.94z\"/><path d=\"M17.41 7.96l-1.37-1.37c-.4-.4-.92-.59-1.43-.59-.52 0-1.04.2-1.43.59L10.3 9.45l-7.72 7.72c-.78.78-.78 2.05 0 2.83L4 21.41c.39.39.9.59 1.41.59.51 0 1.02-.2 1.41-.59l7.78-7.78 2.81-2.81c.8-.78.8-2.07 0-2.86zM5.41 20L4 18.59l7.72-7.72 1.47 1.35L5.41 20z\"/>\n",
              "  </svg>\n",
              "      </button>\n",
              "      \n",
              "  <style>\n",
              "    .colab-df-container {\n",
              "      display:flex;\n",
              "      flex-wrap:wrap;\n",
              "      gap: 12px;\n",
              "    }\n",
              "\n",
              "    .colab-df-convert {\n",
              "      background-color: #E8F0FE;\n",
              "      border: none;\n",
              "      border-radius: 50%;\n",
              "      cursor: pointer;\n",
              "      display: none;\n",
              "      fill: #1967D2;\n",
              "      height: 32px;\n",
              "      padding: 0 0 0 0;\n",
              "      width: 32px;\n",
              "    }\n",
              "\n",
              "    .colab-df-convert:hover {\n",
              "      background-color: #E2EBFA;\n",
              "      box-shadow: 0px 1px 2px rgba(60, 64, 67, 0.3), 0px 1px 3px 1px rgba(60, 64, 67, 0.15);\n",
              "      fill: #174EA6;\n",
              "    }\n",
              "\n",
              "    [theme=dark] .colab-df-convert {\n",
              "      background-color: #3B4455;\n",
              "      fill: #D2E3FC;\n",
              "    }\n",
              "\n",
              "    [theme=dark] .colab-df-convert:hover {\n",
              "      background-color: #434B5C;\n",
              "      box-shadow: 0px 1px 3px 1px rgba(0, 0, 0, 0.15);\n",
              "      filter: drop-shadow(0px 1px 2px rgba(0, 0, 0, 0.3));\n",
              "      fill: #FFFFFF;\n",
              "    }\n",
              "  </style>\n",
              "\n",
              "      <script>\n",
              "        const buttonEl =\n",
              "          document.querySelector('#df-bbc6d9fe-f7d7-49cb-ba1e-38bf1c1e466d button.colab-df-convert');\n",
              "        buttonEl.style.display =\n",
              "          google.colab.kernel.accessAllowed ? 'block' : 'none';\n",
              "\n",
              "        async function convertToInteractive(key) {\n",
              "          const element = document.querySelector('#df-bbc6d9fe-f7d7-49cb-ba1e-38bf1c1e466d');\n",
              "          const dataTable =\n",
              "            await google.colab.kernel.invokeFunction('convertToInteractive',\n",
              "                                                     [key], {});\n",
              "          if (!dataTable) return;\n",
              "\n",
              "          const docLinkHtml = 'Like what you see? Visit the ' +\n",
              "            '<a target=\"_blank\" href=https://colab.research.google.com/notebooks/data_table.ipynb>data table notebook</a>'\n",
              "            + ' to learn more about interactive tables.';\n",
              "          element.innerHTML = '';\n",
              "          dataTable['output_type'] = 'display_data';\n",
              "          await google.colab.output.renderOutput(dataTable, element);\n",
              "          const docLink = document.createElement('div');\n",
              "          docLink.innerHTML = docLinkHtml;\n",
              "          element.appendChild(docLink);\n",
              "        }\n",
              "      </script>\n",
              "    </div>\n",
              "  </div>\n",
              "  "
            ]
          },
          "metadata": {},
          "execution_count": 12
        }
      ],
      "source": [
        "df.head()"
      ],
      "id": "1c170ff4"
    },
    {
      "cell_type": "code",
      "execution_count": 14,
      "metadata": {
        "id": "fa3f0199"
      },
      "outputs": [],
      "source": [
        "# Data prep for model fitting\n",
        "X = df.iloc[:, 0:10]\n",
        "y = df.iloc[:, 11]"
      ],
      "id": "fa3f0199"
    },
    {
      "cell_type": "code",
      "execution_count": 15,
      "metadata": {
        "id": "7bc221a0"
      },
      "outputs": [],
      "source": [
        "#Create dummy variables for categorical variables \n",
        "geography=pd.get_dummies(X[\"Geography\"],drop_first=True)\n",
        "gender=pd.get_dummies(X['Gender'],drop_first=True)"
      ],
      "id": "7bc221a0"
    },
    {
      "cell_type": "code",
      "execution_count": 16,
      "metadata": {
        "id": "42c0978f"
      },
      "outputs": [],
      "source": [
        "## Concatenate the Data Frames\n",
        "X=pd.concat([X,geography,gender],axis=1)"
      ],
      "id": "42c0978f"
    },
    {
      "cell_type": "code",
      "execution_count": 17,
      "metadata": {
        "id": "73fadb10"
      },
      "outputs": [],
      "source": [
        "## Drop Unnecessary columns\n",
        "X=X.drop(['Geography','Gender'],axis=1)"
      ],
      "id": "73fadb10"
    },
    {
      "cell_type": "code",
      "execution_count": 18,
      "metadata": {
        "id": "b9691c9a"
      },
      "outputs": [],
      "source": [
        "#Splitting the dataset into the Training set and Test set\n",
        "from sklearn.model_selection import train_test_split\n",
        "X_train, X_test, y_train, y_test = train_test_split(X, y, test_size = 0.2, random_state = 0)"
      ],
      "id": "b9691c9a"
    },
    {
      "cell_type": "code",
      "execution_count": 19,
      "metadata": {
        "id": "c2cf2eb4"
      },
      "outputs": [],
      "source": [
        "# Feature Scaling\n",
        "from sklearn.preprocessing import StandardScaler\n",
        "SC = StandardScaler()\n",
        "X_train = SC.fit_transform(X_train)\n",
        "X_test = SC.transform(X_test)"
      ],
      "id": "c2cf2eb4"
    },
    {
      "cell_type": "markdown",
      "metadata": {
        "id": "bd01848d"
      },
      "source": [
        "# Prepare ANN Model "
      ],
      "id": "bd01848d"
    },
    {
      "cell_type": "code",
      "execution_count": 20,
      "metadata": {
        "id": "2c380476"
      },
      "outputs": [],
      "source": [
        "from keras.models import Sequential\n",
        "from keras.layers import Dense, Activation, Embedding, Flatten, LeakyReLU, BatchNormalization, Dropout\n",
        "from keras.activations import relu, sigmoid\n",
        "from keras.layers import LeakyReLU\n",
        "\n",
        "from keras.wrappers.scikit_learn import KerasClassifier\n",
        "from sklearn.model_selection import GridSearchCV"
      ],
      "id": "2c380476"
    },
    {
      "cell_type": "markdown",
      "metadata": {
        "id": "d1768b6d"
      },
      "source": [
        "## Hyperparameters\n",
        "\n",
        "    How many number of hidden layers we should have?\n",
        "    How many number of neurons we should have in hidden layers?\n",
        "    Learning Rate\n",
        "\n"
      ],
      "id": "d1768b6d"
    },
    {
      "cell_type": "code",
      "execution_count": 21,
      "metadata": {
        "id": "6668ec9a"
      },
      "outputs": [],
      "source": [
        "def create_model(layers, activation):\n",
        "    model = Sequential()\n",
        "    for i, nodes in enumerate(layers):\n",
        "        if i==0:\n",
        "            model.add(Dense(nodes,input_dim=X_train.shape[1]))\n",
        "            model.add(Activation(activation))\n",
        "            model.add(Dropout(0.3))\n",
        "        else:\n",
        "            model.add(Dense(nodes))\n",
        "            model.add(Activation(activation))\n",
        "            model.add(Dropout(0.3))\n",
        "            \n",
        "    model.add(Dense(units = 1, kernel_initializer= 'glorot_uniform', activation = 'sigmoid')) # Note: no activation beyond this point\n",
        "    \n",
        "    model.compile(optimizer='adam', loss='binary_crossentropy',metrics=['accuracy'])\n",
        "    return model"
      ],
      "id": "6668ec9a"
    },
    {
      "cell_type": "code",
      "execution_count": 22,
      "metadata": {
        "colab": {
          "base_uri": "https://localhost:8080/"
        },
        "id": "dd94e2e4",
        "outputId": "65ef5bf0-004a-45b6-a5b9-8bc450fd8616"
      },
      "outputs": [
        {
          "output_type": "stream",
          "name": "stderr",
          "text": [
            "/usr/local/lib/python3.7/dist-packages/ipykernel_launcher.py:1: DeprecationWarning: KerasClassifier is deprecated, use Sci-Keras (https://github.com/adriangb/scikeras) instead. See https://www.adriangb.com/scikeras/stable/migration.html for help migrating.\n",
            "  \"\"\"Entry point for launching an IPython kernel.\n"
          ]
        }
      ],
      "source": [
        "model = KerasClassifier(build_fn=create_model, verbose=0)"
      ],
      "id": "dd94e2e4"
    },
    {
      "cell_type": "code",
      "execution_count": 23,
      "metadata": {
        "id": "25312147"
      },
      "outputs": [],
      "source": [
        "layers = [[20,15],[30,25],[30,20],[30, 10],[25,10], [45, 30, 15]]\n",
        "activations = ['sigmoid', 'relu']\n",
        "param_grid = dict(layers=layers, activation=activations, batch_size = [128, 256], epochs=[100])"
      ],
      "id": "25312147"
    },
    {
      "cell_type": "code",
      "execution_count": 24,
      "metadata": {
        "id": "ed25f31c"
      },
      "outputs": [],
      "source": [
        "grid = GridSearchCV(estimator=model, param_grid=param_grid,cv=5)"
      ],
      "id": "ed25f31c"
    },
    {
      "cell_type": "code",
      "execution_count": 26,
      "metadata": {
        "id": "cc198e13"
      },
      "outputs": [],
      "source": [
        "grid_result = grid.fit(X_train, y_train)"
      ],
      "id": "cc198e13"
    },
    {
      "cell_type": "code",
      "execution_count": 27,
      "metadata": {
        "id": "bffd0880",
        "outputId": "32661160-f2a6-49be-b527-3fb01d0a91eb",
        "colab": {
          "base_uri": "https://localhost:8080/"
        }
      },
      "outputs": [
        {
          "output_type": "execute_result",
          "data": {
            "text/plain": [
              "[0.8601249933242798,\n",
              " {'activation': 'relu',\n",
              "  'batch_size': 256,\n",
              "  'epochs': 100,\n",
              "  'layers': [45, 30, 15]}]"
            ]
          },
          "metadata": {},
          "execution_count": 27
        }
      ],
      "source": [
        "[grid_result.best_score_,grid_result.best_params_]"
      ],
      "id": "bffd0880"
    },
    {
      "cell_type": "code",
      "execution_count": 28,
      "metadata": {
        "id": "a146e6bd"
      },
      "outputs": [],
      "source": [
        "# Importing the Keras libraries and packages\n",
        "from keras.models import Sequential\n",
        "from keras.layers import Dense\n",
        "from keras.layers import LeakyReLU,PReLU,ELU\n",
        "from keras.layers import Dropout"
      ],
      "id": "a146e6bd"
    },
    {
      "cell_type": "code",
      "execution_count": 29,
      "metadata": {
        "id": "02a856d7"
      },
      "outputs": [],
      "source": [
        "# Initialising the ANN\n",
        "classifier = Sequential()\n",
        "\n",
        "# Adding the input layer and the first hidden layer\n",
        "classifier.add(Dense( units= 40, kernel_initializer = 'he_uniform',activation='relu',input_dim = 11))\n",
        "\n",
        "# Adding the second hidden layer\n",
        "classifier.add(Dense(units = 30, kernel_initializer= 'he_uniform',activation='relu'))\n",
        "\n",
        "# Adding the second hidden layer\n",
        "classifier.add(Dense(units = 15, kernel_initializer= 'he_uniform',activation='relu'))\n",
        "\n",
        "# Adding the output layer\n",
        "classifier.add(Dense(units= 1, kernel_initializer= 'glorot_uniform', activation = 'sigmoid'))\n",
        "\n",
        "# Compiling the ANN\n",
        "classifier.compile(optimizer = 'Adamax', loss = 'binary_crossentropy', metrics = ['accuracy'])\n"
      ],
      "id": "02a856d7"
    },
    {
      "cell_type": "code",
      "execution_count": 30,
      "metadata": {
        "id": "f777464c",
        "outputId": "fa57e2a6-0321-440b-8679-e1c1dd9c9749",
        "colab": {
          "base_uri": "https://localhost:8080/"
        }
      },
      "outputs": [
        {
          "output_type": "stream",
          "name": "stdout",
          "text": [
            "Epoch 1/100\n",
            "21/21 [==============================] - 1s 12ms/step - loss: 1.0193 - accuracy: 0.2913 - val_loss: 0.7371 - val_accuracy: 0.4915\n",
            "Epoch 2/100\n",
            "21/21 [==============================] - 0s 4ms/step - loss: 0.6437 - accuracy: 0.6464 - val_loss: 0.5774 - val_accuracy: 0.7474\n",
            "Epoch 3/100\n",
            "21/21 [==============================] - 0s 4ms/step - loss: 0.5535 - accuracy: 0.7682 - val_loss: 0.5343 - val_accuracy: 0.7789\n",
            "Epoch 4/100\n",
            "21/21 [==============================] - 0s 6ms/step - loss: 0.5232 - accuracy: 0.7841 - val_loss: 0.5123 - val_accuracy: 0.7868\n",
            "Epoch 5/100\n",
            "21/21 [==============================] - 0s 4ms/step - loss: 0.5023 - accuracy: 0.7895 - val_loss: 0.4964 - val_accuracy: 0.7902\n",
            "Epoch 6/100\n",
            "21/21 [==============================] - 0s 4ms/step - loss: 0.4860 - accuracy: 0.7944 - val_loss: 0.4840 - val_accuracy: 0.7963\n",
            "Epoch 7/100\n",
            "21/21 [==============================] - 0s 4ms/step - loss: 0.4729 - accuracy: 0.7992 - val_loss: 0.4744 - val_accuracy: 0.7982\n",
            "Epoch 8/100\n",
            "21/21 [==============================] - 0s 4ms/step - loss: 0.4624 - accuracy: 0.8016 - val_loss: 0.4666 - val_accuracy: 0.8016\n",
            "Epoch 9/100\n",
            "21/21 [==============================] - 0s 4ms/step - loss: 0.4538 - accuracy: 0.8035 - val_loss: 0.4600 - val_accuracy: 0.8058\n",
            "Epoch 10/100\n",
            "21/21 [==============================] - 0s 4ms/step - loss: 0.4464 - accuracy: 0.8057 - val_loss: 0.4549 - val_accuracy: 0.8080\n",
            "Epoch 11/100\n",
            "21/21 [==============================] - 0s 4ms/step - loss: 0.4398 - accuracy: 0.8106 - val_loss: 0.4502 - val_accuracy: 0.8084\n",
            "Epoch 12/100\n",
            "21/21 [==============================] - 0s 4ms/step - loss: 0.4342 - accuracy: 0.8136 - val_loss: 0.4462 - val_accuracy: 0.8073\n",
            "Epoch 13/100\n",
            "21/21 [==============================] - 0s 4ms/step - loss: 0.4290 - accuracy: 0.8158 - val_loss: 0.4430 - val_accuracy: 0.8084\n",
            "Epoch 14/100\n",
            "21/21 [==============================] - 0s 6ms/step - loss: 0.4243 - accuracy: 0.8190 - val_loss: 0.4399 - val_accuracy: 0.8080\n",
            "Epoch 15/100\n",
            "21/21 [==============================] - 0s 4ms/step - loss: 0.4198 - accuracy: 0.8207 - val_loss: 0.4372 - val_accuracy: 0.8099\n",
            "Epoch 16/100\n",
            "21/21 [==============================] - 0s 4ms/step - loss: 0.4158 - accuracy: 0.8225 - val_loss: 0.4348 - val_accuracy: 0.8107\n",
            "Epoch 17/100\n",
            "21/21 [==============================] - 0s 4ms/step - loss: 0.4118 - accuracy: 0.8248 - val_loss: 0.4322 - val_accuracy: 0.8122\n",
            "Epoch 18/100\n",
            "21/21 [==============================] - 0s 4ms/step - loss: 0.4083 - accuracy: 0.8272 - val_loss: 0.4299 - val_accuracy: 0.8152\n",
            "Epoch 19/100\n",
            "21/21 [==============================] - 0s 4ms/step - loss: 0.4047 - accuracy: 0.8289 - val_loss: 0.4277 - val_accuracy: 0.8164\n",
            "Epoch 20/100\n",
            "21/21 [==============================] - 0s 4ms/step - loss: 0.4015 - accuracy: 0.8308 - val_loss: 0.4254 - val_accuracy: 0.8186\n",
            "Epoch 21/100\n",
            "21/21 [==============================] - 0s 4ms/step - loss: 0.3985 - accuracy: 0.8330 - val_loss: 0.4233 - val_accuracy: 0.8186\n",
            "Epoch 22/100\n",
            "21/21 [==============================] - 0s 5ms/step - loss: 0.3956 - accuracy: 0.8362 - val_loss: 0.4210 - val_accuracy: 0.8213\n",
            "Epoch 23/100\n",
            "21/21 [==============================] - 0s 4ms/step - loss: 0.3927 - accuracy: 0.8386 - val_loss: 0.4191 - val_accuracy: 0.8209\n",
            "Epoch 24/100\n",
            "21/21 [==============================] - 0s 5ms/step - loss: 0.3900 - accuracy: 0.8395 - val_loss: 0.4168 - val_accuracy: 0.8228\n",
            "Epoch 25/100\n",
            "21/21 [==============================] - 0s 4ms/step - loss: 0.3873 - accuracy: 0.8416 - val_loss: 0.4146 - val_accuracy: 0.8220\n",
            "Epoch 26/100\n",
            "21/21 [==============================] - 0s 4ms/step - loss: 0.3846 - accuracy: 0.8429 - val_loss: 0.4129 - val_accuracy: 0.8236\n",
            "Epoch 27/100\n",
            "21/21 [==============================] - 0s 4ms/step - loss: 0.3823 - accuracy: 0.8427 - val_loss: 0.4111 - val_accuracy: 0.8239\n",
            "Epoch 28/100\n",
            "21/21 [==============================] - 0s 4ms/step - loss: 0.3800 - accuracy: 0.8434 - val_loss: 0.4095 - val_accuracy: 0.8262\n",
            "Epoch 29/100\n",
            "21/21 [==============================] - 0s 4ms/step - loss: 0.3777 - accuracy: 0.8440 - val_loss: 0.4075 - val_accuracy: 0.8262\n",
            "Epoch 30/100\n",
            "21/21 [==============================] - 0s 4ms/step - loss: 0.3756 - accuracy: 0.8455 - val_loss: 0.4059 - val_accuracy: 0.8266\n",
            "Epoch 31/100\n",
            "21/21 [==============================] - 0s 4ms/step - loss: 0.3734 - accuracy: 0.8449 - val_loss: 0.4043 - val_accuracy: 0.8281\n",
            "Epoch 32/100\n",
            "21/21 [==============================] - 0s 4ms/step - loss: 0.3715 - accuracy: 0.8466 - val_loss: 0.4028 - val_accuracy: 0.8289\n",
            "Epoch 33/100\n",
            "21/21 [==============================] - 0s 4ms/step - loss: 0.3698 - accuracy: 0.8466 - val_loss: 0.4010 - val_accuracy: 0.8266\n",
            "Epoch 34/100\n",
            "21/21 [==============================] - 0s 4ms/step - loss: 0.3677 - accuracy: 0.8475 - val_loss: 0.4000 - val_accuracy: 0.8304\n",
            "Epoch 35/100\n",
            "21/21 [==============================] - 0s 5ms/step - loss: 0.3657 - accuracy: 0.8494 - val_loss: 0.3985 - val_accuracy: 0.8281\n",
            "Epoch 36/100\n",
            "21/21 [==============================] - 0s 5ms/step - loss: 0.3640 - accuracy: 0.8496 - val_loss: 0.3972 - val_accuracy: 0.8292\n",
            "Epoch 37/100\n",
            "21/21 [==============================] - 0s 5ms/step - loss: 0.3626 - accuracy: 0.8515 - val_loss: 0.3960 - val_accuracy: 0.8289\n",
            "Epoch 38/100\n",
            "21/21 [==============================] - 0s 4ms/step - loss: 0.3609 - accuracy: 0.8515 - val_loss: 0.3950 - val_accuracy: 0.8304\n",
            "Epoch 39/100\n",
            "21/21 [==============================] - 0s 4ms/step - loss: 0.3593 - accuracy: 0.8522 - val_loss: 0.3935 - val_accuracy: 0.8307\n",
            "Epoch 40/100\n",
            "21/21 [==============================] - 0s 4ms/step - loss: 0.3580 - accuracy: 0.8526 - val_loss: 0.3925 - val_accuracy: 0.8304\n",
            "Epoch 41/100\n",
            "21/21 [==============================] - 0s 4ms/step - loss: 0.3564 - accuracy: 0.8526 - val_loss: 0.3917 - val_accuracy: 0.8323\n",
            "Epoch 42/100\n",
            "21/21 [==============================] - 0s 5ms/step - loss: 0.3550 - accuracy: 0.8531 - val_loss: 0.3905 - val_accuracy: 0.8323\n",
            "Epoch 43/100\n",
            "21/21 [==============================] - 0s 5ms/step - loss: 0.3536 - accuracy: 0.8550 - val_loss: 0.3898 - val_accuracy: 0.8326\n",
            "Epoch 44/100\n",
            "21/21 [==============================] - 0s 4ms/step - loss: 0.3524 - accuracy: 0.8559 - val_loss: 0.3891 - val_accuracy: 0.8345\n",
            "Epoch 45/100\n",
            "21/21 [==============================] - 0s 5ms/step - loss: 0.3512 - accuracy: 0.8565 - val_loss: 0.3879 - val_accuracy: 0.8364\n",
            "Epoch 46/100\n",
            "21/21 [==============================] - 0s 4ms/step - loss: 0.3500 - accuracy: 0.8580 - val_loss: 0.3873 - val_accuracy: 0.8376\n",
            "Epoch 47/100\n",
            "21/21 [==============================] - 0s 4ms/step - loss: 0.3489 - accuracy: 0.8582 - val_loss: 0.3866 - val_accuracy: 0.8372\n",
            "Epoch 48/100\n",
            "21/21 [==============================] - 0s 4ms/step - loss: 0.3477 - accuracy: 0.8582 - val_loss: 0.3855 - val_accuracy: 0.8387\n",
            "Epoch 49/100\n",
            "21/21 [==============================] - 0s 4ms/step - loss: 0.3466 - accuracy: 0.8589 - val_loss: 0.3849 - val_accuracy: 0.8391\n",
            "Epoch 50/100\n",
            "21/21 [==============================] - 0s 4ms/step - loss: 0.3458 - accuracy: 0.8599 - val_loss: 0.3842 - val_accuracy: 0.8391\n",
            "Epoch 51/100\n",
            "21/21 [==============================] - 0s 4ms/step - loss: 0.3447 - accuracy: 0.8584 - val_loss: 0.3836 - val_accuracy: 0.8379\n",
            "Epoch 52/100\n",
            "21/21 [==============================] - 0s 4ms/step - loss: 0.3437 - accuracy: 0.8606 - val_loss: 0.3830 - val_accuracy: 0.8376\n",
            "Epoch 53/100\n",
            "21/21 [==============================] - 0s 4ms/step - loss: 0.3429 - accuracy: 0.8608 - val_loss: 0.3823 - val_accuracy: 0.8387\n",
            "Epoch 54/100\n",
            "21/21 [==============================] - 0s 5ms/step - loss: 0.3420 - accuracy: 0.8602 - val_loss: 0.3822 - val_accuracy: 0.8379\n",
            "Epoch 55/100\n",
            "21/21 [==============================] - 0s 4ms/step - loss: 0.3411 - accuracy: 0.8619 - val_loss: 0.3812 - val_accuracy: 0.8387\n",
            "Epoch 56/100\n",
            "21/21 [==============================] - 0s 4ms/step - loss: 0.3404 - accuracy: 0.8621 - val_loss: 0.3812 - val_accuracy: 0.8383\n",
            "Epoch 57/100\n",
            "21/21 [==============================] - 0s 4ms/step - loss: 0.3393 - accuracy: 0.8614 - val_loss: 0.3803 - val_accuracy: 0.8379\n",
            "Epoch 58/100\n",
            "21/21 [==============================] - 0s 4ms/step - loss: 0.3386 - accuracy: 0.8617 - val_loss: 0.3799 - val_accuracy: 0.8379\n",
            "Epoch 59/100\n",
            "21/21 [==============================] - 0s 5ms/step - loss: 0.3378 - accuracy: 0.8625 - val_loss: 0.3796 - val_accuracy: 0.8379\n",
            "Epoch 60/100\n",
            "21/21 [==============================] - 0s 6ms/step - loss: 0.3373 - accuracy: 0.8625 - val_loss: 0.3792 - val_accuracy: 0.8387\n",
            "Epoch 61/100\n",
            "21/21 [==============================] - 0s 4ms/step - loss: 0.3363 - accuracy: 0.8623 - val_loss: 0.3789 - val_accuracy: 0.8387\n",
            "Epoch 62/100\n",
            "21/21 [==============================] - 0s 4ms/step - loss: 0.3357 - accuracy: 0.8630 - val_loss: 0.3785 - val_accuracy: 0.8398\n",
            "Epoch 63/100\n",
            "21/21 [==============================] - 0s 4ms/step - loss: 0.3349 - accuracy: 0.8630 - val_loss: 0.3783 - val_accuracy: 0.8398\n",
            "Epoch 64/100\n",
            "21/21 [==============================] - 0s 4ms/step - loss: 0.3341 - accuracy: 0.8642 - val_loss: 0.3777 - val_accuracy: 0.8417\n",
            "Epoch 65/100\n",
            "21/21 [==============================] - 0s 4ms/step - loss: 0.3334 - accuracy: 0.8645 - val_loss: 0.3776 - val_accuracy: 0.8402\n",
            "Epoch 66/100\n",
            "21/21 [==============================] - 0s 5ms/step - loss: 0.3327 - accuracy: 0.8643 - val_loss: 0.3771 - val_accuracy: 0.8413\n",
            "Epoch 67/100\n",
            "21/21 [==============================] - 0s 4ms/step - loss: 0.3321 - accuracy: 0.8647 - val_loss: 0.3771 - val_accuracy: 0.8402\n",
            "Epoch 68/100\n",
            "21/21 [==============================] - 0s 4ms/step - loss: 0.3318 - accuracy: 0.8634 - val_loss: 0.3765 - val_accuracy: 0.8413\n",
            "Epoch 69/100\n",
            "21/21 [==============================] - 0s 4ms/step - loss: 0.3307 - accuracy: 0.8653 - val_loss: 0.3766 - val_accuracy: 0.8402\n",
            "Epoch 70/100\n",
            "21/21 [==============================] - 0s 4ms/step - loss: 0.3300 - accuracy: 0.8651 - val_loss: 0.3762 - val_accuracy: 0.8429\n",
            "Epoch 71/100\n",
            "21/21 [==============================] - 0s 4ms/step - loss: 0.3293 - accuracy: 0.8653 - val_loss: 0.3762 - val_accuracy: 0.8425\n",
            "Epoch 72/100\n",
            "21/21 [==============================] - 0s 4ms/step - loss: 0.3287 - accuracy: 0.8655 - val_loss: 0.3754 - val_accuracy: 0.8421\n",
            "Epoch 73/100\n",
            "21/21 [==============================] - 0s 4ms/step - loss: 0.3282 - accuracy: 0.8668 - val_loss: 0.3753 - val_accuracy: 0.8429\n",
            "Epoch 74/100\n",
            "21/21 [==============================] - 0s 4ms/step - loss: 0.3277 - accuracy: 0.8658 - val_loss: 0.3753 - val_accuracy: 0.8421\n",
            "Epoch 75/100\n",
            "21/21 [==============================] - 0s 5ms/step - loss: 0.3270 - accuracy: 0.8666 - val_loss: 0.3755 - val_accuracy: 0.8429\n",
            "Epoch 76/100\n",
            "21/21 [==============================] - 0s 4ms/step - loss: 0.3264 - accuracy: 0.8675 - val_loss: 0.3749 - val_accuracy: 0.8429\n",
            "Epoch 77/100\n",
            "21/21 [==============================] - 0s 4ms/step - loss: 0.3259 - accuracy: 0.8662 - val_loss: 0.3749 - val_accuracy: 0.8440\n",
            "Epoch 78/100\n",
            "21/21 [==============================] - 0s 4ms/step - loss: 0.3256 - accuracy: 0.8662 - val_loss: 0.3745 - val_accuracy: 0.8440\n",
            "Epoch 79/100\n",
            "21/21 [==============================] - 0s 4ms/step - loss: 0.3247 - accuracy: 0.8679 - val_loss: 0.3743 - val_accuracy: 0.8440\n",
            "Epoch 80/100\n",
            "21/21 [==============================] - 0s 4ms/step - loss: 0.3243 - accuracy: 0.8679 - val_loss: 0.3741 - val_accuracy: 0.8432\n",
            "Epoch 81/100\n",
            "21/21 [==============================] - 0s 4ms/step - loss: 0.3237 - accuracy: 0.8668 - val_loss: 0.3743 - val_accuracy: 0.8436\n",
            "Epoch 82/100\n",
            "21/21 [==============================] - 0s 4ms/step - loss: 0.3231 - accuracy: 0.8670 - val_loss: 0.3737 - val_accuracy: 0.8444\n",
            "Epoch 83/100\n",
            "21/21 [==============================] - 0s 4ms/step - loss: 0.3224 - accuracy: 0.8675 - val_loss: 0.3736 - val_accuracy: 0.8429\n",
            "Epoch 84/100\n",
            "21/21 [==============================] - 0s 4ms/step - loss: 0.3218 - accuracy: 0.8679 - val_loss: 0.3734 - val_accuracy: 0.8440\n",
            "Epoch 85/100\n",
            "21/21 [==============================] - 0s 4ms/step - loss: 0.3214 - accuracy: 0.8671 - val_loss: 0.3734 - val_accuracy: 0.8448\n",
            "Epoch 86/100\n",
            "21/21 [==============================] - 0s 4ms/step - loss: 0.3209 - accuracy: 0.8681 - val_loss: 0.3732 - val_accuracy: 0.8444\n",
            "Epoch 87/100\n",
            "21/21 [==============================] - 0s 5ms/step - loss: 0.3201 - accuracy: 0.8677 - val_loss: 0.3733 - val_accuracy: 0.8440\n",
            "Epoch 88/100\n",
            "21/21 [==============================] - 0s 4ms/step - loss: 0.3197 - accuracy: 0.8690 - val_loss: 0.3730 - val_accuracy: 0.8451\n",
            "Epoch 89/100\n",
            "21/21 [==============================] - 0s 4ms/step - loss: 0.3191 - accuracy: 0.8684 - val_loss: 0.3727 - val_accuracy: 0.8451\n",
            "Epoch 90/100\n",
            "21/21 [==============================] - 0s 4ms/step - loss: 0.3186 - accuracy: 0.8699 - val_loss: 0.3730 - val_accuracy: 0.8463\n",
            "Epoch 91/100\n",
            "21/21 [==============================] - 0s 4ms/step - loss: 0.3179 - accuracy: 0.8694 - val_loss: 0.3722 - val_accuracy: 0.8451\n",
            "Epoch 92/100\n",
            "21/21 [==============================] - 0s 4ms/step - loss: 0.3174 - accuracy: 0.8699 - val_loss: 0.3724 - val_accuracy: 0.8448\n",
            "Epoch 93/100\n",
            "21/21 [==============================] - 0s 4ms/step - loss: 0.3170 - accuracy: 0.8705 - val_loss: 0.3722 - val_accuracy: 0.8444\n",
            "Epoch 94/100\n",
            "21/21 [==============================] - 0s 5ms/step - loss: 0.3164 - accuracy: 0.8701 - val_loss: 0.3722 - val_accuracy: 0.8455\n",
            "Epoch 95/100\n",
            "21/21 [==============================] - 0s 5ms/step - loss: 0.3159 - accuracy: 0.8707 - val_loss: 0.3715 - val_accuracy: 0.8444\n",
            "Epoch 96/100\n",
            "21/21 [==============================] - 0s 4ms/step - loss: 0.3155 - accuracy: 0.8698 - val_loss: 0.3724 - val_accuracy: 0.8474\n",
            "Epoch 97/100\n",
            "21/21 [==============================] - 0s 5ms/step - loss: 0.3150 - accuracy: 0.8712 - val_loss: 0.3719 - val_accuracy: 0.8470\n",
            "Epoch 98/100\n",
            "21/21 [==============================] - 0s 4ms/step - loss: 0.3145 - accuracy: 0.8711 - val_loss: 0.3714 - val_accuracy: 0.8444\n",
            "Epoch 99/100\n",
            "21/21 [==============================] - 0s 4ms/step - loss: 0.3138 - accuracy: 0.8709 - val_loss: 0.3718 - val_accuracy: 0.8470\n",
            "Epoch 100/100\n",
            "21/21 [==============================] - 0s 4ms/step - loss: 0.3133 - accuracy: 0.8720 - val_loss: 0.3716 - val_accuracy: 0.8455\n"
          ]
        }
      ],
      "source": [
        "# Fitting the ANN to the Training set\n",
        "model_history=classifier.fit(X_train, y_train,validation_split=0.33, batch_size = 256, epochs = 100)"
      ],
      "id": "f777464c"
    },
    {
      "cell_type": "code",
      "execution_count": 31,
      "metadata": {
        "id": "ecb36001",
        "outputId": "14ff4c75-bdfd-434b-d5be-a08f5001e548",
        "colab": {
          "base_uri": "https://localhost:8080/"
        }
      },
      "outputs": [
        {
          "output_type": "stream",
          "name": "stdout",
          "text": [
            "dict_keys(['loss', 'accuracy', 'val_loss', 'val_accuracy'])\n"
          ]
        }
      ],
      "source": [
        "# list all data in history\n",
        "\n",
        "print(model_history.history.keys())"
      ],
      "id": "ecb36001"
    },
    {
      "cell_type": "code",
      "execution_count": 32,
      "metadata": {
        "id": "af95de79",
        "outputId": "3cfe33f5-790e-4221-e124-b182aac8e3b4",
        "colab": {
          "base_uri": "https://localhost:8080/",
          "height": 295
        }
      },
      "outputs": [
        {
          "output_type": "display_data",
          "data": {
            "text/plain": [
              "<Figure size 432x288 with 1 Axes>"
            ],
            "image/png": "[encoded data removed]"
          },
          "metadata": {
            "needs_background": "light"
          }
        }
      ],
      "source": [
        "#summarize history for accuracy\n",
        "plt.plot(model_history.history['accuracy'])\n",
        "plt.plot(model_history.history['val_accuracy'])\n",
        "plt.title('model accuracy')\n",
        "plt.ylabel('accuracy')\n",
        "plt.xlabel('epoch')\n",
        "plt.legend(['train', 'test'], loc='upper left')\n",
        "plt.show()"
      ],
      "id": "af95de79"
    },
    {
      "cell_type": "code",
      "execution_count": 33,
      "metadata": {
        "id": "9513a30b",
        "outputId": "fa0baf2c-17d6-4b0c-ad16-3e764f362303",
        "colab": {
          "base_uri": "https://localhost:8080/",
          "height": 295
        }
      },
      "outputs": [
        {
          "output_type": "display_data",
          "data": {
            "text/plain": [
              "<Figure size 432x288 with 1 Axes>"
            ],
            "image/png": "[encoded data removed]"
          },
          "metadata": {
            "needs_background": "light"
          }
        }
      ],
      "source": [
        "# summarize history for loss\n",
        "plt.plot(model_history.history['loss'])\n",
        "plt.plot(model_history.history['val_loss'])\n",
        "plt.title('model loss')\n",
        "plt.ylabel('loss')\n",
        "plt.xlabel('epoch')\n",
        "plt.legend(['train', 'test'], loc='upper left')\n",
        "plt.show()\n"
      ],
      "id": "9513a30b"
    },
    {
      "cell_type": "code",
      "execution_count": 34,
      "metadata": {
        "id": "7157d53a",
        "outputId": "e051c153-30eb-4327-a84c-957d187961c3",
        "colab": {
          "base_uri": "https://localhost:8080/"
        }
      },
      "outputs": [
        {
          "output_type": "stream",
          "name": "stdout",
          "text": [
            "63/63 [==============================] - 0s 2ms/step\n"
          ]
        }
      ],
      "source": [
        "# Making the predictions and evaluating the model\n",
        "\n",
        "# Predicting the Test set results\n",
        "y_pred = classifier.predict(X_test)\n",
        "y_pred = (y_pred > 0.5)\n",
        "\n",
        "# Making the Confusion Matrix\n",
        "from sklearn.metrics import confusion_matrix\n",
        "cm = confusion_matrix(y_test, y_pred)\n"
      ],
      "id": "7157d53a"
    },
    {
      "cell_type": "code",
      "execution_count": 35,
      "metadata": {
        "id": "6e20596e",
        "outputId": "0b01b2a7-f115-46a8-87dc-2847d3ed95f5",
        "colab": {
          "base_uri": "https://localhost:8080/",
          "height": 283
        }
      },
      "outputs": [
        {
          "output_type": "execute_result",
          "data": {
            "text/plain": [
              "<matplotlib.axes._subplots.AxesSubplot at 0x7fc726ddead0>"
            ]
          },
          "metadata": {},
          "execution_count": 35
        },
        {
          "output_type": "display_data",
          "data": {
            "text/plain": [
              "<Figure size 432x288 with 2 Axes>"
            ],
            "image/png": "[encoded data removed]"
          },
          "metadata": {
            "needs_background": "light"
          }
        }
      ],
      "source": [
        "group_names = ['True Neg','False Pos','False Neg','True Pos']\n",
        "group_counts = [\"{0:0.0f}\".format(value) for value in cm.flatten()]\n",
        "group_percentages = [\"{0:.2%}\".format(value) for value in cm.flatten()/np.sum(cm)]\n",
        "labels = [f\"{v1}\\n{v2}\\n{v3}\" for v1, v2, v3 in zip(group_names,group_counts,group_percentages)]\n",
        "labels = np.asarray(labels).reshape(2,2)\n",
        "sns.heatmap(cm, annot=labels, fmt='', cmap='Blues')"
      ],
      "id": "6e20596e"
    },
    {
      "cell_type": "code",
      "execution_count": 36,
      "metadata": {
        "id": "c51d225a",
        "outputId": "8a6ed170-651a-4b17-fce5-ac6d2c03f048",
        "colab": {
          "base_uri": "https://localhost:8080/"
        }
      },
      "outputs": [
        {
          "output_type": "stream",
          "name": "stdout",
          "text": [
            "Accuracy_score =  0.8625\n"
          ]
        }
      ],
      "source": [
        "# Calculate the Accuracy\n",
        "from sklearn.metrics import accuracy_score\n",
        "score=accuracy_score(y_pred,y_test)\n",
        "print(\"Accuracy_score = \",score)"
      ],
      "id": "c51d225a"
    },
    {
      "cell_type": "code",
      "execution_count": null,
      "metadata": {
        "id": "605ee13c"
      },
      "outputs": [],
      "source": [],
      "id": "605ee13c"
    },
    {
      "cell_type": "code",
      "execution_count": null,
      "metadata": {
        "id": "b2cb39d1"
      },
      "outputs": [],
      "source": [],
      "id": "b2cb39d1"
    }
  ],
  "metadata": {
    "colab": {
      "provenance": []
    },
    "kernelspec": {
      "display_name": "Python 3 (ipykernel)",
      "language": "python",
      "name": "python3"
    },
    "language_info": {
      "codemirror_mode": {
        "name": "ipython",
        "version": 3
      },
      "file_extension": ".py",
      "mimetype": "text/x-python",
      "name": "python",
      "nbconvert_exporter": "python",
      "pygments_lexer": "ipython3",
      "version": "3.9.7"
    }
  },
  "nbformat": 4,
  "nbformat_minor": 5
}